{
 "cells": [
  {
   "cell_type": "markdown",
   "id": "d2e4630a",
   "metadata": {},
   "source": [
    "# pandas "
   ]
  },
  {
   "cell_type": "markdown",
   "id": "5d389bb5",
   "metadata": {},
   "source": [
    "- refers towards panel data and python data analysis\n",
    "- developed in 2008 by McKinney\n",
    "- Installation:\n",
    "    - if PIP and python is already installed in your machine: \n",
    "        -  pip install pandas\n",
    "- Note:\n",
    "    - python distribution like anaconda already have pandas installed\n",
    "\n",
    "- data structure in python:\n",
    "    - data series\n",
    "        one dimension\n",
    "        like column in a table\n",
    "    - dataframe\n",
    "        2 dimension\n",
    "        table with row and column\n"
   ]
  },
  {
   "cell_type": "code",
   "execution_count": 59,
   "id": "fc26af5c",
   "metadata": {},
   "outputs": [],
   "source": [
    "# importing pandas\n",
    "import pandas as pd"
   ]
  },
  {
   "cell_type": "code",
   "execution_count": 2,
   "id": "fc12e045",
   "metadata": {},
   "outputs": [
    {
     "data": {
      "text/plain": [
       "'2.2.0'"
      ]
     },
     "execution_count": 2,
     "metadata": {},
     "output_type": "execute_result"
    }
   ],
   "source": [
    "# check version that will verify the availability of pandas\n",
    "pd.__version__\n",
    "# this can vary depending upon the version installed in your machine"
   ]
  },
  {
   "cell_type": "markdown",
   "id": "0ab4c4f6",
   "metadata": {},
   "source": [
    "# Series"
   ]
  },
  {
   "cell_type": "markdown",
   "id": "09637d54",
   "metadata": {},
   "source": [
    "- list as data"
   ]
  },
  {
   "cell_type": "code",
   "execution_count": 62,
   "id": "53394228",
   "metadata": {},
   "outputs": [
    {
     "data": {
      "text/plain": [
       "0    11\n",
       "1    22\n",
       "2    33\n",
       "3    55\n",
       "4    11\n",
       "5    66\n",
       "6    77\n",
       "dtype: int64"
      ]
     },
     "execution_count": 62,
     "metadata": {},
     "output_type": "execute_result"
    }
   ],
   "source": [
    "\n",
    "mydata = [11,22,33,55,11,66,77]\n",
    "dataseries = pd.Series(mydata)\n",
    "dataseries\n",
    "# Note: 'S' in Series is upper case\n",
    "# by default the index begins from zeroth index\n",
    "# so 0 1 2 etcetera is being displayed"
   ]
  },
  {
   "cell_type": "markdown",
   "id": "140f97b3",
   "metadata": {},
   "source": [
    "- indexing(positive indexing) is allowed"
   ]
  },
  {
   "cell_type": "code",
   "execution_count": 63,
   "id": "20def019",
   "metadata": {},
   "outputs": [
    {
     "data": {
      "text/plain": [
       "(11, 22)"
      ]
     },
     "execution_count": 63,
     "metadata": {},
     "output_type": "execute_result"
    }
   ],
   "source": [
    "dataseries[0], dataseries[1]\n"
   ]
  },
  {
   "cell_type": "markdown",
   "id": "f6fb5be0",
   "metadata": {},
   "source": [
    "- negative indexing is not allowed"
   ]
  },
  {
   "cell_type": "code",
   "execution_count": 64,
   "id": "1d78f1b4",
   "metadata": {},
   "outputs": [
    {
     "ename": "KeyError",
     "evalue": "-1",
     "output_type": "error",
     "traceback": [
      "\u001b[1;31m---------------------------------------------------------------------------\u001b[0m",
      "\u001b[1;31mValueError\u001b[0m                                Traceback (most recent call last)",
      "File \u001b[1;32m~\\anaconda3\\Lib\\site-packages\\pandas\\core\\indexes\\range.py:413\u001b[0m, in \u001b[0;36mRangeIndex.get_loc\u001b[1;34m(self, key)\u001b[0m\n\u001b[0;32m    412\u001b[0m \u001b[38;5;28;01mtry\u001b[39;00m:\n\u001b[1;32m--> 413\u001b[0m     \u001b[38;5;28;01mreturn\u001b[39;00m \u001b[38;5;28mself\u001b[39m\u001b[38;5;241m.\u001b[39m_range\u001b[38;5;241m.\u001b[39mindex(new_key)\n\u001b[0;32m    414\u001b[0m \u001b[38;5;28;01mexcept\u001b[39;00m \u001b[38;5;167;01mValueError\u001b[39;00m \u001b[38;5;28;01mas\u001b[39;00m err:\n",
      "\u001b[1;31mValueError\u001b[0m: -1 is not in range",
      "\nThe above exception was the direct cause of the following exception:\n",
      "\u001b[1;31mKeyError\u001b[0m                                  Traceback (most recent call last)",
      "Cell \u001b[1;32mIn[64], line 1\u001b[0m\n\u001b[1;32m----> 1\u001b[0m dataseries[\u001b[38;5;241m-\u001b[39m\u001b[38;5;241m1\u001b[39m]\n",
      "File \u001b[1;32m~\\anaconda3\\Lib\\site-packages\\pandas\\core\\series.py:1111\u001b[0m, in \u001b[0;36mSeries.__getitem__\u001b[1;34m(self, key)\u001b[0m\n\u001b[0;32m   1108\u001b[0m     \u001b[38;5;28;01mreturn\u001b[39;00m \u001b[38;5;28mself\u001b[39m\u001b[38;5;241m.\u001b[39m_values[key]\n\u001b[0;32m   1110\u001b[0m \u001b[38;5;28;01melif\u001b[39;00m key_is_scalar:\n\u001b[1;32m-> 1111\u001b[0m     \u001b[38;5;28;01mreturn\u001b[39;00m \u001b[38;5;28mself\u001b[39m\u001b[38;5;241m.\u001b[39m_get_value(key)\n\u001b[0;32m   1113\u001b[0m \u001b[38;5;66;03m# Convert generator to list before going through hashable part\u001b[39;00m\n\u001b[0;32m   1114\u001b[0m \u001b[38;5;66;03m# (We will iterate through the generator there to check for slices)\u001b[39;00m\n\u001b[0;32m   1115\u001b[0m \u001b[38;5;28;01mif\u001b[39;00m is_iterator(key):\n",
      "File \u001b[1;32m~\\anaconda3\\Lib\\site-packages\\pandas\\core\\series.py:1227\u001b[0m, in \u001b[0;36mSeries._get_value\u001b[1;34m(self, label, takeable)\u001b[0m\n\u001b[0;32m   1224\u001b[0m     \u001b[38;5;28;01mreturn\u001b[39;00m \u001b[38;5;28mself\u001b[39m\u001b[38;5;241m.\u001b[39m_values[label]\n\u001b[0;32m   1226\u001b[0m \u001b[38;5;66;03m# Similar to Index.get_value, but we do not fall back to positional\u001b[39;00m\n\u001b[1;32m-> 1227\u001b[0m loc \u001b[38;5;241m=\u001b[39m \u001b[38;5;28mself\u001b[39m\u001b[38;5;241m.\u001b[39mindex\u001b[38;5;241m.\u001b[39mget_loc(label)\n\u001b[0;32m   1229\u001b[0m \u001b[38;5;28;01mif\u001b[39;00m is_integer(loc):\n\u001b[0;32m   1230\u001b[0m     \u001b[38;5;28;01mreturn\u001b[39;00m \u001b[38;5;28mself\u001b[39m\u001b[38;5;241m.\u001b[39m_values[loc]\n",
      "File \u001b[1;32m~\\anaconda3\\Lib\\site-packages\\pandas\\core\\indexes\\range.py:415\u001b[0m, in \u001b[0;36mRangeIndex.get_loc\u001b[1;34m(self, key)\u001b[0m\n\u001b[0;32m    413\u001b[0m         \u001b[38;5;28;01mreturn\u001b[39;00m \u001b[38;5;28mself\u001b[39m\u001b[38;5;241m.\u001b[39m_range\u001b[38;5;241m.\u001b[39mindex(new_key)\n\u001b[0;32m    414\u001b[0m     \u001b[38;5;28;01mexcept\u001b[39;00m \u001b[38;5;167;01mValueError\u001b[39;00m \u001b[38;5;28;01mas\u001b[39;00m err:\n\u001b[1;32m--> 415\u001b[0m         \u001b[38;5;28;01mraise\u001b[39;00m \u001b[38;5;167;01mKeyError\u001b[39;00m(key) \u001b[38;5;28;01mfrom\u001b[39;00m \u001b[38;5;21;01merr\u001b[39;00m\n\u001b[0;32m    416\u001b[0m \u001b[38;5;28;01mif\u001b[39;00m \u001b[38;5;28misinstance\u001b[39m(key, Hashable):\n\u001b[0;32m    417\u001b[0m     \u001b[38;5;28;01mraise\u001b[39;00m \u001b[38;5;167;01mKeyError\u001b[39;00m(key)\n",
      "\u001b[1;31mKeyError\u001b[0m: -1"
     ]
    }
   ],
   "source": [
    "dataseries[-1]"
   ]
  },
  {
   "cell_type": "code",
   "execution_count": 65,
   "id": "582b9c2d",
   "metadata": {},
   "outputs": [
    {
     "data": {
      "text/plain": [
       "0    11\n",
       "1    22\n",
       "2    33\n",
       "3    55\n",
       "4    11\n",
       "5    66\n",
       "6    77\n",
       "dtype: int64"
      ]
     },
     "execution_count": 65,
     "metadata": {},
     "output_type": "execute_result"
    }
   ],
   "source": [
    "dataseries"
   ]
  },
  {
   "cell_type": "markdown",
   "id": "ce3b5960",
   "metadata": {},
   "source": [
    "- slicing is allowed\n",
    "- we can access the sub portion of the series"
   ]
  },
  {
   "cell_type": "code",
   "execution_count": 66,
   "id": "3a805537",
   "metadata": {},
   "outputs": [
    {
     "data": {
      "text/plain": [
       "1    22\n",
       "2    33\n",
       "3    55\n",
       "4    11\n",
       "dtype: int64"
      ]
     },
     "execution_count": 66,
     "metadata": {},
     "output_type": "execute_result"
    }
   ],
   "source": [
    "dataseries[1:5]"
   ]
  },
  {
   "cell_type": "code",
   "execution_count": 67,
   "id": "cbfc91da",
   "metadata": {},
   "outputs": [
    {
     "data": {
      "text/plain": [
       "0    11\n",
       "1    22\n",
       "2    33\n",
       "3    55\n",
       "4    11\n",
       "5    66\n",
       "6    77\n",
       "dtype: int64"
      ]
     },
     "execution_count": 67,
     "metadata": {},
     "output_type": "execute_result"
    }
   ],
   "source": [
    "dataseries[::]  "
   ]
  },
  {
   "cell_type": "code",
   "execution_count": 68,
   "id": "c5cada95",
   "metadata": {},
   "outputs": [
    {
     "data": {
      "text/plain": [
       "1    22\n",
       "2    33\n",
       "3    55\n",
       "4    11\n",
       "5    66\n",
       "dtype: int64"
      ]
     },
     "execution_count": 68,
     "metadata": {},
     "output_type": "execute_result"
    }
   ],
   "source": [
    "dataseries[1:6]  \n",
    "# start at 1 stop at 6 not including stop point"
   ]
  },
  {
   "cell_type": "code",
   "execution_count": 69,
   "id": "3287af2f",
   "metadata": {},
   "outputs": [
    {
     "data": {
      "text/plain": [
       "1    22\n",
       "3    55\n",
       "5    66\n",
       "dtype: int64"
      ]
     },
     "execution_count": 69,
     "metadata": {},
     "output_type": "execute_result"
    }
   ],
   "source": [
    "dataseries[1:6:2]  \n",
    "# start at 1 stop at 6 not including stop point update by step 2\n",
    "# begins from 1\n",
    "# add 2 on that, becomes 1 + 2 =3\n",
    "# add 2 on current value, becomes 3 + 2= 5"
   ]
  },
  {
   "cell_type": "code",
   "execution_count": 23,
   "id": "82206792",
   "metadata": {},
   "outputs": [],
   "source": [
    "# update detail using slicing"
   ]
  },
  {
   "cell_type": "code",
   "execution_count": 70,
   "id": "0d07f499",
   "metadata": {},
   "outputs": [
    {
     "data": {
      "text/plain": [
       "0     11\n",
       "1    100\n",
       "2    101\n",
       "3    102\n",
       "4     11\n",
       "5     66\n",
       "6     77\n",
       "dtype: int64"
      ]
     },
     "execution_count": 70,
     "metadata": {},
     "output_type": "execute_result"
    }
   ],
   "source": [
    "dataseries[1:4]=[100,101,102]\n",
    "dataseries\n",
    "# index 1 to 3 is update to 100 101 and 102"
   ]
  },
  {
   "cell_type": "code",
   "execution_count": 71,
   "id": "a9d894c2",
   "metadata": {},
   "outputs": [
    {
     "data": {
      "text/plain": [
       "0     11\n",
       "1    999\n",
       "2    999\n",
       "3    999\n",
       "4     11\n",
       "5     66\n",
       "6     77\n",
       "dtype: int64"
      ]
     },
     "execution_count": 71,
     "metadata": {},
     "output_type": "execute_result"
    }
   ],
   "source": [
    "# update using same value\n",
    "dataseries[1:4] = 999\n",
    "dataseries\n",
    "# index 1 to 3 is updated to same value 999"
   ]
  },
  {
   "cell_type": "code",
   "execution_count": 72,
   "id": "93028011",
   "metadata": {},
   "outputs": [
    {
     "data": {
      "text/plain": [
       "ind1     22\n",
       "ind2     33\n",
       "ind3    444\n",
       "ind4     55\n",
       "dtype: int64"
      ]
     },
     "execution_count": 72,
     "metadata": {},
     "output_type": "execute_result"
    }
   ],
   "source": [
    "# we have been working with default index\n",
    "# we can customize the index \n",
    "mydata = [22,33,444,55]\n",
    "series_with_own_index= pd.Series(mydata,['ind1','ind2','ind3','ind4'])\n",
    "series_with_own_index"
   ]
  },
  {
   "cell_type": "code",
   "execution_count": null,
   "id": "fa43a4ab",
   "metadata": {},
   "outputs": [],
   "source": [
    "# keys and values of Series"
   ]
  },
  {
   "cell_type": "code",
   "execution_count": 40,
   "id": "a1f617c3",
   "metadata": {},
   "outputs": [
    {
     "data": {
      "text/plain": [
       "Index(['ind1', 'ind2', 'ind3', 'ind4'], dtype='object')"
      ]
     },
     "execution_count": 40,
     "metadata": {},
     "output_type": "execute_result"
    }
   ],
   "source": [
    "series_with_own_index.keys()"
   ]
  },
  {
   "cell_type": "code",
   "execution_count": 41,
   "id": "68cacbdd",
   "metadata": {},
   "outputs": [
    {
     "data": {
      "text/plain": [
       "array([ 22,  33, 444,  55], dtype=int64)"
      ]
     },
     "execution_count": 41,
     "metadata": {},
     "output_type": "execute_result"
    }
   ],
   "source": [
    "series_with_own_index.values"
   ]
  },
  {
   "cell_type": "code",
   "execution_count": 75,
   "id": "19303ab7",
   "metadata": {},
   "outputs": [
    {
     "data": {
      "text/plain": [
       "ind1     22\n",
       "ind2     33\n",
       "ind4     55\n",
       "ind3    444\n",
       "dtype: int64"
      ]
     },
     "execution_count": 75,
     "metadata": {},
     "output_type": "execute_result"
    }
   ],
   "source": [
    "series_with_own_index.sort_values()\n",
    "# ascending order "
   ]
  },
  {
   "cell_type": "code",
   "execution_count": 78,
   "id": "88d77856",
   "metadata": {},
   "outputs": [
    {
     "data": {
      "text/plain": [
       "ind3    444\n",
       "ind4     55\n",
       "ind2     33\n",
       "ind1     22\n",
       "dtype: int64"
      ]
     },
     "execution_count": 78,
     "metadata": {},
     "output_type": "execute_result"
    }
   ],
   "source": [
    "# descending order\n",
    "series_with_own_index.sort_values(ascending=False)"
   ]
  },
  {
   "cell_type": "code",
   "execution_count": 79,
   "id": "a06c0821",
   "metadata": {},
   "outputs": [
    {
     "data": {
      "text/plain": [
       "554"
      ]
     },
     "execution_count": 79,
     "metadata": {},
     "output_type": "execute_result"
    }
   ],
   "source": [
    "series_with_own_index.sum()"
   ]
  },
  {
   "cell_type": "code",
   "execution_count": 80,
   "id": "c5045c40",
   "metadata": {},
   "outputs": [
    {
     "data": {
      "text/plain": [
       "444"
      ]
     },
     "execution_count": 80,
     "metadata": {},
     "output_type": "execute_result"
    }
   ],
   "source": [
    "series_with_own_index.max()"
   ]
  },
  {
   "cell_type": "code",
   "execution_count": 81,
   "id": "c54d40fa",
   "metadata": {},
   "outputs": [
    {
     "data": {
      "text/plain": [
       "22"
      ]
     },
     "execution_count": 81,
     "metadata": {},
     "output_type": "execute_result"
    }
   ],
   "source": [
    "series_with_own_index.min()"
   ]
  },
  {
   "cell_type": "code",
   "execution_count": 82,
   "id": "6a7b3c4c",
   "metadata": {},
   "outputs": [
    {
     "data": {
      "text/plain": [
       "138.5"
      ]
     },
     "execution_count": 82,
     "metadata": {},
     "output_type": "execute_result"
    }
   ],
   "source": [
    "series_with_own_index.mean()"
   ]
  },
  {
   "cell_type": "code",
   "execution_count": 83,
   "id": "1e82a8e3",
   "metadata": {},
   "outputs": [
    {
     "data": {
      "text/plain": [
       "44.0"
      ]
     },
     "execution_count": 83,
     "metadata": {},
     "output_type": "execute_result"
    }
   ],
   "source": [
    "series_with_own_index.median()"
   ]
  },
  {
   "cell_type": "code",
   "execution_count": 84,
   "id": "8c29a330",
   "metadata": {},
   "outputs": [
    {
     "data": {
      "text/plain": [
       "ind1     22\n",
       "ind2     33\n",
       "ind3    444\n",
       "ind4     55\n",
       "dtype: int64"
      ]
     },
     "execution_count": 84,
     "metadata": {},
     "output_type": "execute_result"
    }
   ],
   "source": [
    "series_with_own_index"
   ]
  },
  {
   "cell_type": "code",
   "execution_count": 86,
   "id": "15ae7b28",
   "metadata": {},
   "outputs": [],
   "source": [
    "# index that has highest value\n",
    "# in this example 444 is highest value with index ind3 that is at \n",
    "# index number 2 (since indexing begins from zeroth index)"
   ]
  },
  {
   "cell_type": "code",
   "execution_count": 85,
   "id": "1e336c0d",
   "metadata": {},
   "outputs": [
    {
     "data": {
      "text/plain": [
       "2"
      ]
     },
     "execution_count": 85,
     "metadata": {},
     "output_type": "execute_result"
    }
   ],
   "source": [
    "series_with_own_index.argmax()"
   ]
  },
  {
   "cell_type": "code",
   "execution_count": 87,
   "id": "9d51e9c6",
   "metadata": {},
   "outputs": [
    {
     "data": {
      "text/plain": [
       "0    22\n",
       "1    44\n",
       "2    33\n",
       "3    44\n",
       "4    11\n",
       "5    34\n",
       "6    11\n",
       "dtype: int64"
      ]
     },
     "execution_count": 87,
     "metadata": {},
     "output_type": "execute_result"
    }
   ],
   "source": [
    "test_data = [22,44,33,44,11,34,11]\n",
    "user_series = pd.Series(test_data)\n",
    "user_series"
   ]
  },
  {
   "cell_type": "code",
   "execution_count": 90,
   "id": "8434f471",
   "metadata": {},
   "outputs": [],
   "source": [
    "# argmax displays the first occurance of the index with highest value"
   ]
  },
  {
   "cell_type": "code",
   "execution_count": 52,
   "id": "d3b528a0",
   "metadata": {},
   "outputs": [
    {
     "data": {
      "text/plain": [
       "1"
      ]
     },
     "execution_count": 52,
     "metadata": {},
     "output_type": "execute_result"
    }
   ],
   "source": [
    "user_series.argmax()"
   ]
  },
  {
   "cell_type": "code",
   "execution_count": 92,
   "id": "c02ea034",
   "metadata": {},
   "outputs": [
    {
     "data": {
      "text/plain": [
       "7"
      ]
     },
     "execution_count": 92,
     "metadata": {},
     "output_type": "execute_result"
    }
   ],
   "source": [
    "user_series.count()"
   ]
  },
  {
   "cell_type": "code",
   "execution_count": 93,
   "id": "eda09ded",
   "metadata": {},
   "outputs": [],
   "source": [
    "# dictionary as data"
   ]
  },
  {
   "cell_type": "code",
   "execution_count": 94,
   "id": "616ce88d",
   "metadata": {},
   "outputs": [],
   "source": [
    "mydata = {\n",
    "    'ram':77,\n",
    "    'shyam':81,\n",
    "    'sita':91\n",
    "}"
   ]
  },
  {
   "cell_type": "code",
   "execution_count": 96,
   "id": "f2bc4f98",
   "metadata": {},
   "outputs": [
    {
     "data": {
      "text/plain": [
       "ram      77\n",
       "shyam    81\n",
       "sita     91\n",
       "dtype: int64"
      ]
     },
     "execution_count": 96,
     "metadata": {},
     "output_type": "execute_result"
    }
   ],
   "source": [
    "myseries = pd.Series(mydata)\n",
    "myseries"
   ]
  },
  {
   "cell_type": "code",
   "execution_count": 97,
   "id": "05bbc0ac",
   "metadata": {},
   "outputs": [
    {
     "data": {
      "text/plain": [
       "ram     77\n",
       "sita    91\n",
       "dtype: int64"
      ]
     },
     "execution_count": 97,
     "metadata": {},
     "output_type": "execute_result"
    }
   ],
   "source": [
    "# use selected index only\n",
    "# let's say we don't want to access all of the index\n",
    "# we can customize it this way:\n",
    "myseries = pd.Series(mydata,index=['ram','sita'])\n",
    "myseries"
   ]
  },
  {
   "cell_type": "code",
   "execution_count": null,
   "id": "59f52e0d",
   "metadata": {},
   "outputs": [],
   "source": [
    "# Have great moments ahead\n",
    "# Good times"
   ]
  }
 ],
 "metadata": {
  "kernelspec": {
   "display_name": "Python 3 (ipykernel)",
   "language": "python",
   "name": "python3"
  },
  "language_info": {
   "codemirror_mode": {
    "name": "ipython",
    "version": 3
   },
   "file_extension": ".py",
   "mimetype": "text/x-python",
   "name": "python",
   "nbconvert_exporter": "python",
   "pygments_lexer": "ipython3",
   "version": "3.11.5"
  }
 },
 "nbformat": 4,
 "nbformat_minor": 5
}
